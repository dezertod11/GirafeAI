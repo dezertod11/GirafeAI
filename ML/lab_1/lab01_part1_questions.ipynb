{
 "cells": [
  {
   "cell_type": "markdown",
   "metadata": {},
   "source": [
    "*Credits: materials from this notebook belong to YSDA [Practical DL](https://github.com/yandexdataschool/Practical_DL) course. Special thanks for making them available online.*"
   ]
  },
  {
   "cell_type": "markdown",
   "metadata": {},
   "source": [
    "# Lab assignment №1, part 1\n",
    "\n",
    "This lab assignment consists of several parts. You are supposed to make some transformations, train some models, estimate the quality of the models and explain your results.\n",
    "\n",
    "Several comments:\n",
    "* Don't hesitate to ask questions, it's a good practice.\n",
    "* No private/public sharing, please. The copied assignments will be graded with 0 points.\n",
    "* Blocks of this lab will be graded separately."
   ]
  },
  {
   "cell_type": "markdown",
   "metadata": {},
   "source": [
    "## 1. Matrix differentiation"
   ]
  },
  {
   "cell_type": "markdown",
   "metadata": {},
   "source": [
    "Since it easy to google every task please please please try to undestand what's going on. The \"just answer\" thing will be not counted, make sure to present derivation of your solution. It is absolutely OK if you found an answer on web then just exercise in $\\LaTeX$ copying it into here."
   ]
  },
  {
   "cell_type": "markdown",
   "metadata": {},
   "source": [
    "Useful links:\n",
    "- [Matrix Differentiation (EN)](http://www.atmos.washington.edu/~dennis/MatrixCalculus.pdf)\n",
    "- [Матричные вычисления (RU)](http://www.machinelearning.ru/wiki/images/2/2a/Matrix-Gauss.pdf)"
   ]
  },
  {
   "cell_type": "markdown",
   "metadata": {},
   "source": [
    "## Exercise 1"
   ]
  },
  {
   "cell_type": "markdown",
   "metadata": {},
   "source": [
    "$$  \n",
    "y = x^Tx,  \\quad x \\in \\mathbb{R}^N \n",
    "$$"
   ]
  },
  {
   "cell_type": "markdown",
   "metadata": {},
   "source": [
    "\n",
    "$$\\frac{\\partial}{\\partial x_i}\\sum_{i=1}^nx_i^2=2x_i$$\n",
    "\n",
    "=>\n",
    "\n",
    "$$\n",
    "\\frac{dy}{dx} = 2x\n",
    "$$ "
   ]
  },
  {
   "cell_type": "code",
   "execution_count": null,
   "metadata": {
    "collapsed": true,
    "jupyter": {
     "outputs_hidden": true
    }
   },
   "outputs": [],
   "source": []
  },
  {
   "cell_type": "markdown",
   "metadata": {},
   "source": [
    "## Exercise 2"
   ]
  },
  {
   "cell_type": "markdown",
   "metadata": {},
   "source": [
    "$$ y = tr(AB) \\quad A,B \\in \\mathbb{R}^{N \\times N} $$ "
   ]
  },
  {
   "cell_type": "markdown",
   "metadata": {},
   "source": [
    "$$\\frac{\\partial}{\\partial a_{ij}}tr(AB)=\\frac{\\partial}{\\partial a_{ij}}\\left(\\sum_{j=1}^na_{1j}b_{j1}+\\dots+\\sum_{j=1}^na_{nj}b_{jn}\\right)=b_{ji}$$\n",
    "\n",
    "=> \n",
    "\n",
    "$$\n",
    "\\frac{dy}{dA} =B^T\n",
    "$$"
   ]
  },
  {
   "cell_type": "code",
   "execution_count": null,
   "metadata": {
    "collapsed": true,
    "jupyter": {
     "outputs_hidden": true
    }
   },
   "outputs": [],
   "source": []
  },
  {
   "cell_type": "markdown",
   "metadata": {},
   "source": [
    "## Exercise 3"
   ]
  },
  {
   "cell_type": "markdown",
   "metadata": {},
   "source": [
    "$$  \n",
    "y = x^TAc , \\quad A\\in \\mathbb{R}^{N \\times N}, x\\in \\mathbb{R}^{N}, c\\in \\mathbb{R}^{N} \n",
    "$$"
   ]
  },
  {
   "cell_type": "markdown",
   "metadata": {},
   "source": [
    "$$y = x^TAc = \\sum_{i=1}^nx_ia_{1i}c_1+\\dots+\\sum_{i=1}^nx_ia_{ni}c_n.$$\n",
    "\n",
    "$$\\frac{\\partial}{\\partial x_i}y=a_{1i}c_1+\\dots+a_{ni}c_n$$\n",
    "\n",
    "=>\n",
    "\n",
    "$$\n",
    "\\frac{dy}{dx} =A^Tc\n",
    "$$"
   ]
  },
  {
   "cell_type": "markdown",
   "metadata": {},
   "source": [
    "$$\\frac{\\partial}{\\partial a_{ij}}y=\\frac{\\partial}{\\partial a_{ij}}\\sum_{j=1}^nx_ja_{ij}c_i=x_jc_i$$\n",
    "\n",
    "=>\n",
    "\n",
    "$$\n",
    "\\frac{dy}{dA} = c^Tx\n",
    "$$"
   ]
  },
  {
   "cell_type": "markdown",
   "metadata": {},
   "source": [
    "Hint for the latter (one of the ways): use *ex. 2* result and the fact \n",
    "$$\n",
    "tr(ABC) = tr (CAB)\n",
    "$$"
   ]
  },
  {
   "cell_type": "code",
   "execution_count": null,
   "metadata": {
    "collapsed": true,
    "jupyter": {
     "outputs_hidden": true
    }
   },
   "outputs": [],
   "source": []
  },
  {
   "cell_type": "markdown",
   "metadata": {},
   "source": [
    "## Exercise 4"
   ]
  },
  {
   "cell_type": "markdown",
   "metadata": {},
   "source": [
    "Classic matrix factorization example. Given matrix $X$ you need to find $A$, $S$ to approximate $X$. This can be done by simple gradient descent iteratively alternating $A$ and $S$ updates.\n",
    "$$\n",
    "J = || X - AS ||_F^2  , \\quad A\\in \\mathbb{R}^{N \\times R} , \\quad S\\in \\mathbb{R}^{R \\times M}\n",
    "$$\n",
    "\n",
    "$$\n",
    "\\frac{dJ}{dS} = ? \n",
    "$$\n",
    "\n",
    "\n",
    "$$dJ=d( X-AS, X-AS)=d(( X, X)-2( X, AS)+( AS, AS))=-2( X, AdS)+2( AS, AdS)=-2( A^T(X-AS), dS)$$\n",
    "\n",
    "=>\n",
    "\n",
    "$$\\frac{dJ}{dS}=-2A^T(X-AS).$$\n",
    "You may use one of the following approaches:\n",
    "\n",
    "You may use one of the following approaches:"
   ]
  },
  {
   "cell_type": "markdown",
   "metadata": {},
   "source": [
    "#### First approach\n",
    "Using ex.2 and the fact:\n",
    "$$\n",
    "|| X ||_F^2 = tr(XX^T) \n",
    "$$ \n",
    "it is easy to derive gradients (you can find it in one of the refs). "
   ]
  },
  {
   "cell_type": "markdown",
   "metadata": {},
   "source": [
    "#### Second approach\n",
    "You can use *slightly different techniques* if they suits you. Take a look at this derivation:\n",
    "<img src=\"grad.png\">\n",
    "\n",
    "(excerpt from [Handbook of blind source separation, Jutten, page 517](https://books.google.ru/books?id=PTbj03bYH6kC&printsec=frontcover&dq=Handbook+of+Blind+Source+Separation&hl=en&sa=X&ved=0ahUKEwi-q_apiJDLAhULvXIKHVXJDWcQ6AEIHDAA#v=onepage&q=Handbook%20of%20Blind%20Source%20Separation&f=false), open for better picture)."
   ]
  },
  {
   "cell_type": "markdown",
   "metadata": {},
   "source": [
    "#### Third approach\n",
    "And finally we can use chain rule! \n",
    "let $ F = AS $ \n",
    "\n",
    "**Find**\n",
    "$$\n",
    "\\frac{dJ}{dF} =  \n",
    "$$ \n",
    "and \n",
    "$$\n",
    "\\frac{dF}{dS} =  \n",
    "$$ \n",
    "(the shape should be $ NM \\times RM )$.\n",
    "\n",
    "Now it is easy do get desired gradients:\n",
    "$$\n",
    "\\frac{dJ}{dS} =  \n",
    "$$ "
   ]
  },
  {
   "cell_type": "markdown",
   "metadata": {
    "collapsed": true,
    "jupyter": {
     "outputs_hidden": true
    }
   },
   "source": [
    "## 2. kNN questions\n",
    "Here come the questions from the assignment0_01. Please, refer to the assignment0_01 to get the context of the questions."
   ]
  },
  {
   "cell_type": "markdown",
   "metadata": {},
   "source": [
    "### Question 1\n",
    "\n",
    "Notice the structured patterns in the distance matrix, where some rows or columns are visible brighter. (Note that with the default color scheme black indicates low distances while white indicates high distances.)\n",
    "\n",
    "- What in the data is the cause behind the distinctly bright rows?\n",
    "- What causes the columns?\n",
    "\n",
    "*Your Answer:*\n",
    "Это означает, что точки со светлыми строками (точка из тестовой выборки) находятся далеко от всех точек тренировочной выборки, то есть экземпляр из test слобо похож на данные train, а аналогичные точки со светлыми столбцами (точка из тренировочной выборки) находятся далеко от всех точек тестовой выборки, то есть экземпляр из train слобо похож на данные test.\n",
    "\n"
   ]
  },
  {
   "cell_type": "markdown",
   "metadata": {},
   "source": [
    "### Question 2\n",
    "\n",
    "We can also use other distance metrics such as L1 distance.\n",
    "For pixel values $p_{ij}^{(k)}$ at location $(i,j)$ of some image $I_k$, \n",
    "\n",
    "the mean $\\mu$ across all pixels over all images is $$\\mu=\\frac{1}{nhw}\\sum_{k=1}^n\\sum_{i=1}^{h}\\sum_{j=1}^{w}p_{ij}^{(k)}$$\n",
    "And the pixel-wise mean $\\mu_{ij}$ across all images is \n",
    "$$\\mu_{ij}=\\frac{1}{n}\\sum_{k=1}^np_{ij}^{(k)}.$$\n",
    "The general standard deviation $\\sigma$ and pixel-wise standard deviation $\\sigma_{ij}$ is defined similarly.\n",
    "\n",
    "Which of the following preprocessing steps will not change the performance of a Nearest Neighbor classifier that uses L1 distance? Select all that apply.\n",
    "1. Subtracting the mean $\\mu$ ($\\tilde{p}_{ij}^{(k)}=p_{ij}^{(k)}-\\mu$.)\n",
    "2. Subtracting the per pixel mean $\\mu_{ij}$  ($\\tilde{p}_{ij}^{(k)}=p_{ij}^{(k)}-\\mu_{ij}$.)\n",
    "3. Subtracting the mean $\\mu$ and dividing by the standard deviation $\\sigma$.\n",
    "4. Subtracting the pixel-wise mean $\\mu_{ij}$ and dividing by the pixel-wise standard deviation $\\sigma_{ij}$.\n",
    "5. Rotating the coordinate axes of the data.\n",
    "\n",
    "*Your Answer:*\n",
    "\n",
    "1 и 3 преобразования не изменят работу метода, а 2, 4 и 5 повлияют на него.\n",
    "\n",
    "\n",
    "*Your Explanation:*\n",
    "- 1: вычитание среднего изменит абсолютные расстояния, но оставит такими же относительные расстояния, которые как раз рассчитывает kNN, так что тоже ничего не изменится.\n",
    "$$\n",
    "||(x_1 - \\mu) - (x_2 - \\mu)|| = ||x_1 - x_2||\n",
    "$$\n",
    "- 3: деление на дисперсию, в отличие от предыдущего пункта, конечно, изменит относительные расстояния, но глобально это лишь изменение масштаба, которое так же не влияет на работу метода.\n",
    "$$\n",
    "||(x_1 - \\mu)/\\sigma - (x_2 - \\mu)/\\sigma|| = ||x_1 - x_2||/\\sigma\n",
    "$$\n",
    "-2 и 4: поскольку для каждой группы точек (i, j) значения среднего и дисперсии различны, то и двигаться после таких преобразований они будут по-разному, что глобально сместит облака точек друг отномительно друга и изменит эффективность kNN.\n",
    "$$\n",
    "||(x_1 - \\mu_1)- (x_2 - \\mu_2)|| = ||(x_1 - x_2)+ (\\mu_2 - \\mu_1)||  \\le ||x_1 - x_2|| + ||\\mu_2 - \\mu_1|| (\\neq \\quad if \\quad \\mu_1 \\neq\\mu_2)\n",
    "$$\n",
    "С 4-м аналогично.\n",
    "- 5: поворот осей изменяет расстояние по L1, так что эффективность метода может измениться.\n",
    "$$\n",
    "x = (0,1), y = (1, 0), z = (2,1)\n",
    "$$\n",
    "$$\n",
    "||y - x||_1 = ||y - z||_1 = 2\n",
    "$$\n",
    "Повернём на 45°.\n",
    "$$\n",
    "x' = (-\\sqrt{2}/2,\\sqrt{2}/2), y' = (\\sqrt{2}/2, \\sqrt{2}/2), z' = (-3\\sqrt{2}/2,\\sqrt{2})\n",
    "$$\n",
    "$$\n",
    "||y' - x'||_1 =2\\sqrt{2} \\neq 5\\sqrt{2}/2= ||y' - z'||_1\n",
    "$$"
   ]
  },
  {
   "cell_type": "markdown",
   "metadata": {},
   "source": [
    "## Question 3\n",
    "\n",
    "Which of the following statements about $k$-Nearest Neighbor ($k$-NN) are true in a classification setting, and for all $k$? Select all that apply.\n",
    "1. The decision boundary (hyperplane between classes in feature space) of the k-NN classifier is linear.\n",
    "2. The training error of a 1-NN will always be lower than that of 5-NN.\n",
    "3. The test error of a 1-NN will always be lower than that of a 5-NN.\n",
    "4. The time needed to classify a test example with the k-NN classifier grows with the size of the training set.\n",
    "5. None of the above.\n",
    "\n",
    "*Your Answer:*\n",
    "\n",
    "\n",
    "*Your Explanation:*\n",
    "- **1:** Нет. KNN может иметь различную форму границы. Это зависит от метрик и самой выборки.\n",
    "-  **2:** Да. Для метода 1-го ближайшего соседа точка из тестовой выборки(она же совпадает с тренировочной) всегда найдет ближайшую точку, которая совпадет сама с собой, и ответ всегда будет правильным. Для 5 соседей другие точки могут повлиять на ответ и однозначно только в сторону ухудшения, т.к. для 1  соседа все правильно на 100%.\n",
    "-  **3:** Нет. Это зависит от смешанности выборок, которую можно наблюдать через профиль компактности.\n",
    "-  **4:** Да, потому что необохдимо для каждой точки из тестовой выборки считать расстояния до всех точек тренировочной выборки, и с увеичением числа точек, увеличивается число операций и соответственно время.\n",
    "\n"
   ]
  }
 ],
 "metadata": {
  "kernelspec": {
   "display_name": "Python 3",
   "language": "python",
   "name": "python3"
  },
  "language_info": {
   "codemirror_mode": {
    "name": "ipython",
    "version": 3
   },
   "file_extension": ".py",
   "mimetype": "text/x-python",
   "name": "python",
   "nbconvert_exporter": "python",
   "pygments_lexer": "ipython3",
   "version": "3.12.7"
  }
 },
 "nbformat": 4,
 "nbformat_minor": 4
}
